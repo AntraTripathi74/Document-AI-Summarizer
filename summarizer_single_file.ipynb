{
  "cells": [
    {
      "cell_type": "markdown",
      "metadata": {
        "id": "7acsPeTRCY9H"
      },
      "source": [
        "## Summarization processor- single file\n"
      ]
    },
    {
      "cell_type": "code",
      "execution_count": 1,
      "metadata": {
        "id": "nJPKJ9XdB9LA"
      },
      "outputs": [],
      "source": [
        "#installing libraries and modules\n",
        "\n",
        "from typing import Optional\n",
        "import vertexai\n",
        "from google.api_core.client_options import ClientOptions\n",
        "from google.cloud import documentai_v1beta3 as documentai\n",
        "from typing import Optional\n",
        "import json\n",
        "import os\n",
        "from google.oauth2 import service_account\n",
        "from IPython.display import Markdown as md"
      ]
    },
    {
      "cell_type": "code",
      "execution_count": null,
      "metadata": {},
      "outputs": [],
      "source": [
        "credential = service_account.Credentials.from_service_account_file(\"service_account.json\")\n",
        "\n",
        "PROJECT_ID = \"your project id\"  # @param {type:\"string\"}\n",
        "vertexai.init(project=PROJECT_ID, credentials=credential)"
      ]
    },
    {
      "cell_type": "code",
      "execution_count": null,
      "metadata": {
        "id": "uXm37cyzQLbP"
      },
      "outputs": [],
      "source": [
        "project_id = \"your project id\"  # Replace with your Google Cloud project ID\n",
        "location = \"us\" # Format is \"us\" or \"eu\"\n",
        "processor_id = \"f9dfe3fa915572b9\" # Create processor before running sample\n",
        "file_path = \"path/to/your/file.pdf\"  # Path to the file you want to process\n",
        "processor_version = \"rc\"\n",
        "mime_type = \"application/pdf\" # Refer to https://cloud.google.com/document-ai/docs/file-types for supported file types\n",
        "field_mask = \"text,entities,pages.pageNumber\"  # Optional. The fields to return in the Document object.\n",
        "processor_version_id = \"YOUR_PROCESSOR_VERSION_ID\" # Optional. Processor version to use"
      ]
    },
    {
      "cell_type": "code",
      "execution_count": 4,
      "metadata": {
        "id": "xrfwlrTPCvma"
      },
      "outputs": [],
      "source": [
        "vertexai.init(project=project_id, location='us-central1')"
      ]
    },
    {
      "cell_type": "code",
      "execution_count": 5,
      "metadata": {
        "id": "i2FMyWJfC1r0"
      },
      "outputs": [],
      "source": [
        "from vertexai.generative_models import GenerativeModel\n",
        "model = GenerativeModel( \"gemini-1.5-flash\")"
      ]
    },
    {
      "cell_type": "code",
      "execution_count": 6,
      "metadata": {
        "id": "KUJ99He9DKVj"
      },
      "outputs": [],
      "source": [
        "base_prompt=\"\"\"\n",
        "Task:\n",
        "Translate the provided summary into the {language} in the form of a paragraph with atleast 10 lines. Ignore any bullet points in summary if present.\n",
        "\n",
        "Instructions:\n",
        "Language Verification:Check if the summary is already in the {language}.\n",
        "Translation: If necessary, translate the summary into the {language}.\n",
        "Output:Return the translated summary.\n",
        "\n",
        "Example-\n",
        "\n",
        "Input:\n",
        "Summary: \"The quick brown fox jumps over the lazy dog.\"\n",
        "Language: Spanish\n",
        "\n",
        "Output: \n",
        "El rápido zorro marrón salta sobre el perro perezoso.\n",
        "\"\"\""
      ]
    },
    {
      "cell_type": "code",
      "execution_count": 7,
      "metadata": {
        "id": "Map2OtcfRhk7"
      },
      "outputs": [],
      "source": [
        "def process_document_summarizer_sample(\n",
        "    project_id: str,\n",
        "    location: str,\n",
        "    processor_id: str,\n",
        "    processor_version: str,\n",
        "    file_path: str,\n",
        "    mime_type: str,\n",
        ") -> str:\n",
        "    # For supported options, refer to:\n",
        "    # https://cloud.google.com/document-ai/docs/reference/rest/v1beta3/projects.locations.processors.processorVersions#summaryoptions\n",
        "    summary_options = documentai.SummaryOptions(\n",
        "        length=documentai.SummaryOptions.Length.BRIEF,\n",
        "        format=documentai.SummaryOptions.Format.BULLETS,\n",
        "    )\n",
        "\n",
        "    properties = [\n",
        "        documentai.DocumentSchema.EntityType.Property(\n",
        "            name=\"summary\",\n",
        "            value_type=\"string\",\n",
        "            occurrence_type=documentai.DocumentSchema.EntityType.Property.OccurrenceType.REQUIRED_ONCE,\n",
        "            property_metadata=documentai.PropertyMetadata(\n",
        "                field_extraction_metadata=documentai.FieldExtractionMetadata(\n",
        "                    summary_options=summary_options\n",
        "                )\n",
        "            ),\n",
        "        )\n",
        "    ]\n",
        "\n",
        "    # Optional: Request specific summarization format other than the default\n",
        "    # for the processor version.\n",
        "    process_options = documentai.ProcessOptions(\n",
        "        schema_override=documentai.DocumentSchema(\n",
        "            entity_types=[\n",
        "                documentai.DocumentSchema.EntityType(\n",
        "                    name=\"summary_document_type\",\n",
        "                    base_types=[\"document\"],\n",
        "                    properties=properties,\n",
        "                )\n",
        "            ]\n",
        "        )\n",
        "    )\n",
        "\n",
        "    # Online processing request to Document AI\n",
        "    document = process_document(\n",
        "        project_id,\n",
        "        location,\n",
        "        processor_id,\n",
        "        processor_version,\n",
        "        file_path,\n",
        "        mime_type,\n",
        "        process_options=process_options,\n",
        "    )\n",
        "\n",
        "    normalized_value = None\n",
        "\n",
        "    for entity in document.entities:\n",
        "        res = print_entity(entity)\n",
        "        if res:\n",
        "            normalized_value = res\n",
        "            break\n",
        "\n",
        "    return normalized_value\n",
        "\n",
        "\n",
        "def print_entity(entity: documentai.Document.Entity) -> str:\n",
        "    # Fields detected. For a full list of fields for each processor see\n",
        "    # the processor documentation:\n",
        "    # https://cloud.google.com/document-ai/docs/processors-list\n",
        "    key = entity.type_\n",
        "\n",
        "    # Some other value formats in addition to text are availible\n",
        "    # e.g. dates: `entity.normalized_value.date_value.year`\n",
        "    text_value = entity.text_anchor.content\n",
        "    # confidence = entity.confidence\n",
        "    normalized_value = entity.normalized_value.text\n",
        "    # print(f\"    * {repr(key)}: {repr(text_value)}({confidence:.1%} confident)\")\n",
        "\n",
        "    if normalized_value:\n",
        "        normalized_value = str(normalized_value)\n",
        "\n",
        "    return normalized_value\n",
        "\n",
        "\n",
        "def process_document(\n",
        "    project_id: str,\n",
        "    location: str,\n",
        "    processor_id: str,\n",
        "    processor_version: str,\n",
        "    file_path: str,\n",
        "    mime_type: str,\n",
        "    process_options: Optional[documentai.ProcessOptions] = None,\n",
        ") -> documentai.Document:\n",
        "    # You must set the `api_endpoint` if you use a location other than \"us\".\n",
        "    client = documentai.DocumentProcessorServiceClient(\n",
        "        client_options=ClientOptions(\n",
        "            api_endpoint=f\"{location}-documentai.googleapis.com\"\n",
        "        )\n",
        "    )\n",
        "\n",
        "    # The full resource name of the processor version, e.g.:\n",
        "    # `projects/{project_id}/locations/{location}/processors/{processor_id}/processorVersions/{processor_version_id}`\n",
        "    # You must create a processor before running this sample.\n",
        "    name = client.processor_version_path(\n",
        "        project_id, location, processor_id, processor_version\n",
        "    )\n",
        "\n",
        "    # Read the file into memory\n",
        "    with open(file_path, \"rb\") as image:\n",
        "        image_content = image.read()\n",
        "\n",
        "    # Configure the process request\n",
        "    request = documentai.ProcessRequest(\n",
        "        name=name,\n",
        "        raw_document=documentai.RawDocument(content=image_content, mime_type=mime_type),\n",
        "        # Only supported for Document OCR processor\n",
        "        process_options=process_options,\n",
        "    )\n",
        "\n",
        "    result = client.process_document(request=request)\n",
        "    doc = result.document\n",
        "\n",
        "    # For a full list of `Document` object attributes, reference this page:\n",
        "    # https://cloud.google.com/document-ai/docs/reference/rest/v1/Document\n",
        "\n",
        "    return doc"
      ]
    },
    {
      "cell_type": "code",
      "execution_count": 12,
      "metadata": {
        "colab": {
          "base_uri": "https://localhost:8080/"
        },
        "id": "m03dchrDH4Su",
        "outputId": "4c95506a-7ad1-44f6-99a7-172d300aacf6"
      },
      "outputs": [],
      "source": [
        "language=input(\"Enter the language you want the summary in-\")"
      ]
    },
    {
      "cell_type": "code",
      "execution_count": 13,
      "metadata": {
        "id": "vNwT_leQgV6V"
      },
      "outputs": [],
      "source": [
        "a=str(process_document_summarizer_sample(project_id, location, processor_id, processor_version, file_path, mime_type) )\n"
      ]
    },
    {
      "cell_type": "code",
      "execution_count": 14,
      "metadata": {
        "colab": {
          "base_uri": "https://localhost:8080/",
          "height": 70
        },
        "id": "UyaBtQqDIZ3c",
        "outputId": "78e45bd3-dc05-45d4-f842-f47e98bc3114"
      },
      "outputs": [
        {
          "data": {
            "text/plain": [
              "' • The document provides instructions on how to compile a .tex file to a .pdf file using pdflatex, including necessary tools and steps.\\n\\n• It also offers guidance on writing a document using LaTeX, including creating chapters, spell-checking, and incorporating PDF-specific packages.'"
            ]
          },
          "execution_count": 14,
          "metadata": {},
          "output_type": "execute_result"
        }
      ],
      "source": [
        "a"
      ]
    },
    {
      "cell_type": "code",
      "execution_count": 15,
      "metadata": {
        "colab": {
          "base_uri": "https://localhost:8080/"
        },
        "id": "VVWnW8z6U0m5",
        "outputId": "d1b9032e-5ece-4099-d0ba-2b6fb8243f93"
      },
      "outputs": [],
      "source": [
        "final_prompt=base_prompt.format(language=language)+a\n",
        "response = model.generate_content(final_prompt)\n"
      ]
    },
    {
      "cell_type": "code",
      "execution_count": 16,
      "metadata": {
        "id": "ONKQXK1uVPlj"
      },
      "outputs": [
        {
          "data": {
            "text/markdown": [
              "यह दस्तावेज़ pdflatex का उपयोग करके एक .tex फ़ाइल को .pdf फ़ाइल में संकलित करने के तरीके के बारे में निर्देश प्रदान करता है, जिसमें आवश्यक उपकरण और चरण शामिल हैं। इसमें LaTeX का उपयोग करके दस्तावेज़ लिखने के बारे में मार्गदर्शन भी शामिल है, जिसमें अध्याय बनाना, वर्तनी जांचना और PDF-विशिष्ट पैकेजों को शामिल करना शामिल है।\n"
            ],
            "text/plain": [
              "<IPython.core.display.Markdown object>"
            ]
          },
          "execution_count": 16,
          "metadata": {},
          "output_type": "execute_result"
        }
      ],
      "source": [
        "md(response.text)"
      ]
    },
    {
      "cell_type": "code",
      "execution_count": null,
      "metadata": {},
      "outputs": [],
      "source": []
    }
  ],
  "metadata": {
    "colab": {
      "provenance": []
    },
    "kernelspec": {
      "display_name": "venv",
      "language": "python",
      "name": "python3"
    },
    "language_info": {
      "codemirror_mode": {
        "name": "ipython",
        "version": 3
      },
      "file_extension": ".py",
      "mimetype": "text/x-python",
      "name": "python",
      "nbconvert_exporter": "python",
      "pygments_lexer": "ipython3",
      "version": "3.12.5"
    }
  },
  "nbformat": 4,
  "nbformat_minor": 0
}
